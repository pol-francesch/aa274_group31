{
 "cells": [
  {
   "cell_type": "code",
   "execution_count": null,
   "id": "excited-sydney",
   "metadata": {},
   "outputs": [],
   "source": [
    "# The autoreload extension will automatically load in new code as you edit files,\n",
    "# so you don't need to restart the kernel every time\n",
    "%load_ext autoreload\n",
    "%autoreload 2\n",
    "\n",
    "import numpy as np\n",
    "import matplotlib.pyplot as plt\n",
    "from P4_parallel_parking import ParkingRRT\n",
    "\n",
    "plt.rcParams['figure.figsize'] = [12, 12]  # Change default figure size"
   ]
  },
  {
   "cell_type": "code",
   "execution_count": null,
   "id": "inappropriate-father",
   "metadata": {},
   "outputs": [],
   "source": [
    "x_init = [-5, 3.6, 0]\n",
    "x_goal = [-1, 1.4, 0]\n",
    "CAR = np.array([[[-2, -0.9], [2, -0.9]], [[2, -0.9], [2, 0.9]], [[2, 0.9], [-2, 0.9]], [[-2, 0.9], [-2, -0.9]]])\n",
    "PARKING_SPOT = np.concatenate([CAR + np.array([5.5, 1.4]), CAR + np.array([-5.5, 1.4]),\n",
    "                               np.array([[[-8, 0], [8, 0]]])], 0)\n",
    "\n",
    "pp_rrt = ParkingRRT([-5, 0, -np.pi / 3], [5, 4, np.pi / 3], x_init, x_goal, PARKING_SPOT)\n",
    "pp_rrt.plot_problem()"
   ]
  },
  {
   "cell_type": "code",
   "execution_count": null,
   "id": "social-composer",
   "metadata": {},
   "outputs": [],
   "source": [
    "# RRT is a randomized algorithm; even though this planning problem is feasible, with a finite number of samples\n",
    "# success is not guaranteed (though we see that with 1000 samples it seems to work more often than not). It's fun\n",
    "# to see the different solutions RRT comes up with, but for debugging you may wish to use the fixed seed below.\n",
    "# np.random.seed(1235)\n",
    "pp_rrt.solve(5.0, 1000, shortcut=True)"
   ]
  }
 ],
 "metadata": {
  "kernelspec": {
   "display_name": "Python 3.7.13 ('control')",
   "language": "python",
   "name": "python3"
  },
  "language_info": {
   "codemirror_mode": {
    "name": "ipython",
    "version": 3
   },
   "file_extension": ".py",
   "mimetype": "text/x-python",
   "name": "python",
   "nbconvert_exporter": "python",
   "pygments_lexer": "ipython3",
   "version": "3.7.13"
  },
  "vscode": {
   "interpreter": {
    "hash": "a2843c351a71346faaba7bcae2a4ab790f3c254ab4b2871c21aa2f2a0b9cd790"
   }
  }
 },
 "nbformat": 4,
 "nbformat_minor": 5
}
